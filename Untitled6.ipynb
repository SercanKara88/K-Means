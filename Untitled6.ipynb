{
 "cells": [
  {
   "cell_type": "code",
   "execution_count": null,
   "metadata": {},
   "outputs": [],
   "source": [
    "\n",
    "#################################################################\n",
    "##    Marketing analytics                                      ##\n",
    "##    Exercise in Segmentation                     \t           ##\n",
    "##    Cluster Analysis using Customer Transactionss Dataset    ##\n",
    "#################################################################\n",
    "\n",
    "# free memory\n",
    "rm(list = ls())\n",
    "gc()\n",
    "library(readr)\n",
    "\n",
    "# Read the Data\n",
    "Transactions<-read_csv(\"C:/Users/O86589/Desktop/dersler/5-Marketing Analytics/week 4/\"CustomerTransactions.csv\")\n",
    "\n",
    "# Show the first few rows of the data\n",
    "head(Transactions)"
   ]
  },
  {
   "cell_type": "code",
   "execution_count": null,
   "metadata": {},
   "outputs": [],
   "source": [
    "#Show attributes  \n",
    "attributes(Transactions)\n",
    "\n",
    "# draw the data\n",
    "plot(Transactions) \n",
    "\n",
    "\n",
    "#################################################################\n",
    "##  K-Means-Partional Clustering                               ##\n",
    "#################################################################\n",
    "\n",
    "# Kmeans Clustering model fitting\n",
    "model <- kmeans(Transactions[-1:-2], 3) \n",
    "summary(model)\n"
   ]
  },
  {
   "cell_type": "code",
   "execution_count": null,
   "metadata": {},
   "outputs": [],
   "source": [
    "#Model attributes \n",
    "attributes(model) \n",
    "\n",
    "# Clusters:\n",
    "model$cluster\n",
    "\n",
    "# Cluster size:\n",
    "model$size\n",
    "\n",
    "# Assign cluster number to the original data:\n",
    "Transactions<-cbind(Transactions,Cluster=model$cluster)\n",
    "\n",
    "model$withinss"
   ]
  },
  {
   "cell_type": "code",
   "execution_count": null,
   "metadata": {},
   "outputs": [],
   "source": [
    "#library(cluster)\n",
    "\n",
    "# Plot Clusters in 2D\n",
    "clusplot(Transactions[-1:-2], model$cluster, main='2D representation of the Cluster solution',\n",
    "         color=TRUE, shade=TRUE,\n",
    "         labels=2, lines=0)\n",
    "\n",
    "\n",
    "# Show cities and their corresponding clusters:\n",
    "table(Transactions[,1],model$cluster)\n",
    "\n",
    "\n",
    "\n"
   ]
  }
 ],
 "metadata": {
  "kernelspec": {
   "display_name": "R",
   "language": "R",
   "name": "ir"
  },
  "language_info": {
   "codemirror_mode": "r",
   "file_extension": ".r",
   "mimetype": "text/x-r-source",
   "name": "R",
   "pygments_lexer": "r",
   "version": "3.5.1"
  }
 },
 "nbformat": 4,
 "nbformat_minor": 2
}
